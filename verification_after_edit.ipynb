{
 "cells": [
  {
   "cell_type": "markdown",
   "metadata": {},
   "source": [
    "# Compare Predictions with the Actual Predictions"
   ]
  },
  {
   "cell_type": "code",
   "execution_count": 106,
   "metadata": {},
   "outputs": [],
   "source": [
    "#imports\n",
    "import pandas as pd\n",
    "import os\n",
    "import numpy as np"
   ]
  },
  {
   "cell_type": "code",
   "execution_count": 108,
   "metadata": {},
   "outputs": [],
   "source": [
    "#load the datasets\n",
    "actual = pd.read_csv('Actual.csv')\n",
    "p_pred = pd.read_csv('/Users/pallavkumar/Desktop/Jun 2022/Verification/EDITED_predictions_explanations_lastentry.csv')"
   ]
  },
  {
   "cell_type": "code",
   "execution_count": 109,
   "metadata": {},
   "outputs": [
    {
     "name": "stdout",
     "output_type": "stream",
     "text": [
      "Equal Length\n",
      "True\n"
     ]
    }
   ],
   "source": [
    "ppred_cols = set()\n",
    "actual_cols = set()\n",
    "for col in p_pred.columns:\n",
    "    ppred_cols.add(col)\n",
    "for col in actual.columns:\n",
    "    actual_cols.add(col)\n",
    "if(len(ppred_cols)==len(actual_cols)):\n",
    "    print('Equal Length')\n",
    "    print(ppred_cols==actual_cols)\n",
    "    "
   ]
  },
  {
   "cell_type": "code",
   "execution_count": 110,
   "metadata": {},
   "outputs": [],
   "source": [
    "#check for nct_ids\n",
    "actual_ncts = actual['nct_id']\n",
    "actual_ncts = set(actual_ncts)\n",
    "ppred_ncts = p_pred['nct_id']\n",
    "ppred_ncts = set(ppred_ncts)"
   ]
  },
  {
   "cell_type": "code",
   "execution_count": 111,
   "metadata": {},
   "outputs": [
    {
     "name": "stdout",
     "output_type": "stream",
     "text": [
      "set()\n"
     ]
    }
   ],
   "source": [
    "print(actual_ncts-ppred_ncts)"
   ]
  },
  {
   "cell_type": "code",
   "execution_count": 114,
   "metadata": {},
   "outputs": [
    {
     "name": "stdout",
     "output_type": "stream",
     "text": [
      "Equal Length\n"
     ]
    }
   ],
   "source": [
    "#check for predictedPcd\n",
    "actual_pcds = set(actual['predictedPcd'])\n",
    "ppred_pcds = set(actual['predictedPcd'])\n",
    "if(len(actual_pcds)==len(ppred_pcds)):\n",
    "    print('Equal Length')\n"
   ]
  },
  {
   "cell_type": "code",
   "execution_count": 127,
   "metadata": {},
   "outputs": [],
   "source": [
    "df_comp = actual[(actual['nct_id']==p_pred['nct_id']) & (actual['predictedPcd']!= p_pred['predictedPcd'])]"
   ]
  },
  {
   "cell_type": "code",
   "execution_count": 128,
   "metadata": {},
   "outputs": [
    {
     "name": "stdout",
     "output_type": "stream",
     "text": [
      "Verification Successful\n"
     ]
    }
   ],
   "source": [
    "if(df_comp.shape[0]==0):\n",
    "    print('Verification Successful')\n",
    "else:\n",
    "    print('Verification Failed')    "
   ]
  }
 ],
 "metadata": {
  "kernelspec": {
   "display_name": "Python 3.10.2 64-bit",
   "language": "python",
   "name": "python3"
  },
  "language_info": {
   "codemirror_mode": {
    "name": "ipython",
    "version": 3
   },
   "file_extension": ".py",
   "mimetype": "text/x-python",
   "name": "python",
   "nbconvert_exporter": "python",
   "pygments_lexer": "ipython3",
   "version": "3.10.2"
  },
  "orig_nbformat": 4,
  "vscode": {
   "interpreter": {
    "hash": "aee8b7b246df8f9039afb4144a1f6fd8d2ca17a180786b69acc140d282b71a49"
   }
  }
 },
 "nbformat": 4,
 "nbformat_minor": 2
}
